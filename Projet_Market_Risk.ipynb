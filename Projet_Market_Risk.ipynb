{
 "cells": [
  {
   "cell_type": "code",
   "execution_count": 2,
   "metadata": {},
   "outputs": [],
   "source": [
    "import pandas as pd\n",
    "import numpy as np"
   ]
  },
  {
   "cell_type": "markdown",
   "metadata": {},
   "source": [
    "Projet Market Risk \n",
    "\n",
    "Cabal Paul-Louis & Braun Arthur"
   ]
  },
  {
   "cell_type": "markdown",
   "metadata": {},
   "source": [
    "Question A :\n",
    "\n",
    "From the time series of the daily prices of the stock Natixis between January 2015 and December 2016,\n",
    "provided with TD1, estimate a historical VaR on price returns at a one-day horizon for a given\n",
    "probability level (this probability is a parameter which must be changed easily). You must base your\n",
    "VaR on a non-parametric distribution (Epanechnikov Kernel)."
   ]
  },
  {
   "cell_type": "markdown",
   "metadata": {},
   "source": [
    "Importons les données "
   ]
  },
  {
   "cell_type": "code",
   "execution_count": 7,
   "metadata": {},
   "outputs": [
    {
     "data": {
      "text/html": [
       "<div>\n",
       "<style scoped>\n",
       "    .dataframe tbody tr th:only-of-type {\n",
       "        vertical-align: middle;\n",
       "    }\n",
       "\n",
       "    .dataframe tbody tr th {\n",
       "        vertical-align: top;\n",
       "    }\n",
       "\n",
       "    .dataframe thead th {\n",
       "        text-align: right;\n",
       "    }\n",
       "</style>\n",
       "<table border=\"1\" class=\"dataframe\">\n",
       "  <thead>\n",
       "    <tr style=\"text-align: right;\">\n",
       "      <th></th>\n",
       "      <th>02/01/2015</th>\n",
       "      <th>5,621</th>\n",
       "    </tr>\n",
       "  </thead>\n",
       "  <tbody>\n",
       "    <tr>\n",
       "      <th>0</th>\n",
       "      <td>05/01/2015</td>\n",
       "      <td>5,424</td>\n",
       "    </tr>\n",
       "    <tr>\n",
       "      <th>1</th>\n",
       "      <td>06/01/2015</td>\n",
       "      <td>5,329</td>\n",
       "    </tr>\n",
       "    <tr>\n",
       "      <th>2</th>\n",
       "      <td>07/01/2015</td>\n",
       "      <td>5,224</td>\n",
       "    </tr>\n",
       "    <tr>\n",
       "      <th>3</th>\n",
       "      <td>08/01/2015</td>\n",
       "      <td>5,453</td>\n",
       "    </tr>\n",
       "    <tr>\n",
       "      <th>4</th>\n",
       "      <td>09/01/2015</td>\n",
       "      <td>5,34</td>\n",
       "    </tr>\n",
       "    <tr>\n",
       "      <th>...</th>\n",
       "      <td>...</td>\n",
       "      <td>...</td>\n",
       "    </tr>\n",
       "    <tr>\n",
       "      <th>1017</th>\n",
       "      <td>21/12/2018</td>\n",
       "      <td>4,045</td>\n",
       "    </tr>\n",
       "    <tr>\n",
       "      <th>1018</th>\n",
       "      <td>24/12/2018</td>\n",
       "      <td>4,01</td>\n",
       "    </tr>\n",
       "    <tr>\n",
       "      <th>1019</th>\n",
       "      <td>27/12/2018</td>\n",
       "      <td>3,938</td>\n",
       "    </tr>\n",
       "    <tr>\n",
       "      <th>1020</th>\n",
       "      <td>28/12/2018</td>\n",
       "      <td>4,088</td>\n",
       "    </tr>\n",
       "    <tr>\n",
       "      <th>1021</th>\n",
       "      <td>31/12/2018</td>\n",
       "      <td>4,119</td>\n",
       "    </tr>\n",
       "  </tbody>\n",
       "</table>\n",
       "<p>1022 rows × 2 columns</p>\n",
       "</div>"
      ],
      "text/plain": [
       "      02/01/2015  5,621\n",
       "0     05/01/2015  5,424\n",
       "1     06/01/2015  5,329\n",
       "2     07/01/2015  5,224\n",
       "3     08/01/2015  5,453\n",
       "4     09/01/2015   5,34\n",
       "...          ...    ...\n",
       "1017  21/12/2018  4,045\n",
       "1018  24/12/2018   4,01\n",
       "1019  27/12/2018  3,938\n",
       "1020  28/12/2018  4,088\n",
       "1021  31/12/2018  4,119\n",
       "\n",
       "[1022 rows x 2 columns]"
      ]
     },
     "execution_count": 7,
     "metadata": {},
     "output_type": "execute_result"
    }
   ],
   "source": [
    "dataset = pd.read_csv(\"Natixis_stock.txt\", sep = \"\\t\")\n",
    "dataset"
   ]
  },
  {
   "cell_type": "code",
   "execution_count": 8,
   "metadata": {},
   "outputs": [
    {
     "ename": "SyntaxError",
     "evalue": "invalid syntax (Temp/ipykernel_6712/2291157851.py, line 1)",
     "output_type": "error",
     "traceback": [
      "\u001b[1;36m  File \u001b[1;32m\"C:\\Users\\paull\\AppData\\Local\\Temp/ipykernel_6712/2291157851.py\"\u001b[1;36m, line \u001b[1;32m1\u001b[0m\n\u001b[1;33m    return = []\u001b[0m\n\u001b[1;37m           ^\u001b[0m\n\u001b[1;31mSyntaxError\u001b[0m\u001b[1;31m:\u001b[0m invalid syntax\n"
     ]
    }
   ],
   "source": [
    "returns = []\n",
    "while dataset[0][i] != \"30/12/2016\" :\n",
    "    if "
   ]
  }
 ],
 "metadata": {
  "kernelspec": {
   "display_name": "Python 3.9.7 ('base')",
   "language": "python",
   "name": "python3"
  },
  "language_info": {
   "codemirror_mode": {
    "name": "ipython",
    "version": 3
   },
   "file_extension": ".py",
   "mimetype": "text/x-python",
   "name": "python",
   "nbconvert_exporter": "python",
   "pygments_lexer": "ipython3",
   "version": "3.9.7 (default, Sep 16 2021, 16:59:28) [MSC v.1916 64 bit (AMD64)]"
  },
  "orig_nbformat": 4,
  "vscode": {
   "interpreter": {
    "hash": "6dec87fd3e4f169816f3529bd2f5b8ede594dfe52c378d10e5a9e3bf0adfe179"
   }
  }
 },
 "nbformat": 4,
 "nbformat_minor": 2
}
